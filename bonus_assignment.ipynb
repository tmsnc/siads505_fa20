{
 "cells": [
  {
   "cell_type": "markdown",
   "metadata": {},
   "source": [
    "# Building Realistic Example Data\n",
    "This __optional bonus assignment__ is worth up to 5% of your final grade. It must be handed in by directly mailing the instructor (Christopher Brooks, brooksch@umich.edu) the assignment no later than Sunday September 27th at 11:59pm EST. This is not an all-or-nothing assignment, partial grades will be provided as appropriate."
   ]
  },
  {
   "cell_type": "markdown",
   "metadata": {},
   "source": [
    "## Assignment Overview\n",
    "A constant need I have when teaching pandas is finding compelling example data to work from. Good example data is real-world, messy enough to need some manipulation, and fits reasonable constraints for a given problem. For instance, if I want to demonstrate joining multiple `DataFrame` together I might want one which is about people and one which is about purchases, where every person has an identifier and a bunch of personal information, and every purchase is linked to a given person. This is much more compelling then a bunch of random `np.ndarray` lists that I create inline while trying to give a lecture!\n",
    "\n",
    "In addition, I'm taken by domain specific languages, and in this part of the assignment you are required to build a processor for a simple domain specific language I have invented for the purpose of describing pandas `DataFrame` structures! It is expected that you will demonstrate your knowledge of regex here in particular.\n",
    "\n",
    "Here's an example of the language I've created for this part of the assignment:\n",
    "```\n",
    "persons\n",
    "-------\n",
    "first_name\n",
    "last_name*\n",
    "phone_number\n",
    "random_number(5) as customer_number [1]*\n",
    "\n",
    "purchases\n",
    "---------\n",
    "isbn10\n",
    "credit_card_full\n",
    "random_number(3) as price\n",
    "random_number(5) as customer_number [1]\n",
    "```\n",
    "\n",
    "In this example I describe two `DataFrame` objects by underlying a string with two or more hyphens. The string (`persons` and `purchases`) should be used as the variable name for the `DataFrame` objects created, and the language will always separate multiple `DataFrame` definitions by whitespace and hyphens as shown. Each column in the `DataFrame` is described on its own line with a string (e.g. `first_name*`). The string defines the column as follows:\n",
    "\n",
    "1. The first word (e.g. `first_name` or `random_number(3)`) describes a function  and optional set of parameters to be called against a common `faker` object (an instance of the `Faker` class) for each entry in the resulting `DataFrame`. For instance, a value of `isbn10` implies that `faker.isbn10()` be called (note the default parameters), while a value of `random_number(5)` implies that `faker.random_number(5)` be called (with my supplied parameters).\n",
    "2. The first word *may* be followed by some whitespace and then an `as` statement. The `as` statement denotes that the following word be used as the name of the column. For instance, `random_number(3) as price` means that I'm looking for a column named `price` where every instance in the column is of a `faker.random_number(3)` invocation.\n",
    "3. If there is no `as` statement the name of the column should be the name of the function (with no parameters) I supplied, e.g. `first_name`.\n",
    "4. The definition may include a reference in the format `[#]` where the # sign is any number. This reference will be used across tables to show that the data in those tables should be of a similar set of values. This is so I can join between tables, which is a common need to demonstrate. In the example given I want each of the tables to have a column called `customer_number` where the data values in the column are such that `set(column1)==set(column2)`. Note that this doesn't mean the columns should be the same (they shouldn't), but just that they should include only 100% overlapping data. See point 6 for data distribution. **Clarification: In the example here, all of the `customer_number` values in `persons` should be unique (hence the `*`), but in the referencing collumn `purchases[customer_number]` the uniqueness is relaxed. This means that there does not have to be a 1:1 mapping as implied, and that it is a 1:many mapping, and in this case since `purchases` has repeated data you could verify this with `set(purchases['customer_number']).issubset(set(persons['customer_number']))`.**\n",
    "5. The sentence may end with a `*`. This indicates that the column described should be made up of unique data (no repeated elements). For instance, you wouldn't want a customer to be accidently assigned the customer number of another person! In the example above I decided I wanted the `last_name` of the persons and their `customer_number` to be unique in that table.\n",
    "6. By default a column should have 25% repeated data. e.g. something close to `len(column)==len(set(column))*1.25`. This lets me demonstrate operations such as left joins easily.\n",
    "7. By default, the length of each `DataFrame` created should be 99 items. This is both reasonable for most demonstrations, and a homage to The Great One.\n",
    "8. The functionality described should be executed in a cell magic function called `%%fakedata`, where the remainder of the cell is the definition in plain text. See https://ipython.readthedocs.io/en/stable/config/custommagics.html for more details."
   ]
  },
  {
   "cell_type": "markdown",
   "metadata": {},
   "source": [
    "## An attempt at a more formal grammar\n",
    "\n",
    "```\n",
    "function_to_call  ::= <wordcharacters>\n",
    "parameters        ::= \"\" | \"(\" ( wordcharacters | number ) \")\"\n",
    "as_name           ::= \"\" | \"as\" <whitespace> <wordcharacters>\n",
    "column_name       ::= as_name | function_to_call\n",
    "reference         ::= \"\" |  \"[\" number \"]\"\n",
    "unique_mark       ::= \"\" | \"*\"\n",
    "column_definition ::= <function_to_call> <parameters> <whitespace> \\\n",
    "                      <as_name> <whitespace> <reference> <unique_mark>\n",
    "df_sep            ::= \"--\" (\"-\"*)\n",
    "df_definition     ::= <wordcharacters> <newline> <df_sep> <newline> \\\n",
    "                      (<column_definition>*) <newline> <newline>\n",
    "language_spec     ::= <def_definition>*\n",
    "```\n"
   ]
  },
  {
   "cell_type": "markdown",
   "metadata": {},
   "source": [
    "## Background: What is this `Faker` class?\n",
    "The `Faker` class defines a number of great functions that generate realistic data. The way it works is that you create a new instance of `Faker` with no parameters, then call various methods on that object which are predefined at https://faker.readthedocs.io/en/stable/\n",
    "\n",
    "This is demonstrated below showing a single entry into a `DataFrame` using the description above."
   ]
  },
  {
   "cell_type": "code",
   "execution_count": 1,
   "metadata": {},
   "outputs": [
    {
     "data": {
      "text/html": [
       "<div>\n",
       "<style scoped>\n",
       "    .dataframe tbody tr th:only-of-type {\n",
       "        vertical-align: middle;\n",
       "    }\n",
       "\n",
       "    .dataframe tbody tr th {\n",
       "        vertical-align: top;\n",
       "    }\n",
       "\n",
       "    .dataframe thead th {\n",
       "        text-align: right;\n",
       "    }\n",
       "</style>\n",
       "<table border=\"1\" class=\"dataframe\">\n",
       "  <thead>\n",
       "    <tr style=\"text-align: right;\">\n",
       "      <th></th>\n",
       "      <th>first_name</th>\n",
       "      <th>last_name</th>\n",
       "      <th>phone_number</th>\n",
       "      <th>customer_number</th>\n",
       "    </tr>\n",
       "  </thead>\n",
       "  <tbody>\n",
       "    <tr>\n",
       "      <th>0</th>\n",
       "      <td>Ashley</td>\n",
       "      <td>Fowler</td>\n",
       "      <td>625.031.2882x91917</td>\n",
       "      <td>7187</td>\n",
       "    </tr>\n",
       "  </tbody>\n",
       "</table>\n",
       "</div>"
      ],
      "text/plain": [
       "  first_name last_name        phone_number  customer_number\n",
       "0     Ashley    Fowler  625.031.2882x91917             7187"
      ]
     },
     "execution_count": 1,
     "metadata": {},
     "output_type": "execute_result"
    }
   ],
   "source": [
    "import pandas as pd\n",
    "from faker import Faker\n",
    "\n",
    "fake = Faker()\n",
    "person = pd.DataFrame( [{\"first_name\": fake.first_name(),\n",
    "                        \"last_name\": fake.last_name(),\n",
    "                        \"phone_number\": fake.phone_number(),\n",
    "                        \"customer_number\": fake.random_number(5)}])\n",
    "person"
   ]
  },
  {
   "cell_type": "markdown",
   "metadata": {},
   "source": [
    "## Some example test cases\n",
    "There is no autograder for this assignment, but it might be useful to see some example test cases, so imagine that I was going to run your code using the following cells. My assumption is that your code to define, load, and run the magic function goes in one cell at the top of the notebook)."
   ]
  },
  {
   "cell_type": "code",
   "execution_count": 2,
   "metadata": {},
   "outputs": [],
   "source": [
    "from IPython.core.magic import (register_line_magic, register_cell_magic,\n",
    "                                register_line_cell_magic)\n",
    "\n",
    "@register_line_magic\n",
    "def lmagic(line):\n",
    "    \"my line magic\"\n",
    "    return line*2\n",
    "\n",
    "@register_cell_magic\n",
    "def cmagic(line,cell):\n",
    "    \"my cell magic\"\n",
    "    global cell_result\n",
    "    cell_result = line,cell\n",
    "    return line, cell\n",
    "\n",
    "@register_line_cell_magic\n",
    "def lcmagic(line, cell=None):\n",
    "    'Magic that works both as %lcmagic and as %%lcmagic'\n",
    "    if cell is None:\n",
    "        print(\"called as line magic\")\n",
    "        return line\n",
    "    else:\n",
    "        print('called as cell magic')\n",
    "        return line, cell"
   ]
  },
  {
   "cell_type": "code",
   "execution_count": 3,
   "metadata": {},
   "outputs": [],
   "source": [
    "from IPython.core.magic import (register_cell_magic, needs_local_scope)\n",
    "\n",
    "@register_cell_magic\n",
    "@needs_local_scope\n",
    "def fakedata(line, cell, local_ns=None):\n",
    "    import re\n",
    "    import pandas as pd\n",
    "    import numpy as np\n",
    "    from faker import Faker\n",
    "\n",
    "    fake = Faker()\n",
    "    \n",
    "    \n",
    "    reg = '((?P<rand>random_number)\\((?P<rand_n>[\\d]+)\\) as )?(?P<var_name>[\\w_]+)( \\[?(?P<table_group>[\\d]+)?\\])?(?P<unique>\\*)?'\n",
    "\n",
    "    # To store table groups linkage\n",
    "    dict_unique = {}\n",
    "\n",
    "    # store df names\n",
    "    df_names = []\n",
    "\n",
    "    # 99 // 1.25 = 79\n",
    "    rows_n = 79\n",
    "\n",
    "    define_df_name = True\n",
    "    for line in cell.split('\\n'):\n",
    "        print('got line: ' + line)\n",
    "\n",
    "        # see if it's df separator\n",
    "        if re.match('\\-+', line):\n",
    "            define_df_name = False\n",
    "            print('finished define df name')\n",
    "\n",
    "        # define the df name\n",
    "        if define_df_name == True:\n",
    "            print('defining df name as: ' + line)\n",
    "            # start with naming the df \n",
    "            vars()[line] = pd.DataFrame(None)\n",
    "            df = vars()[line]\n",
    "            df_names.append(line)\n",
    "\n",
    "\n",
    "        # find end of df definition\n",
    "        elif line=='':\n",
    "            define_df_name = True\n",
    "\n",
    "        # define contents of df\n",
    "        else:\n",
    "            re_search = re.search(reg,line)\n",
    "            if re_search:\n",
    "                reg_dict = re_search.groupdict()\n",
    "\n",
    "\n",
    "                if reg_dict['rand'] == 'random_number':\n",
    "                    # generate random number\n",
    "                    # save the series if unique\n",
    "                    if reg_dict['unique'] == '*':\n",
    "                        df[reg_dict['var_name']] = pd.Series([fake.random_number(int(reg_dict['rand_n']), fix_len=True) for i in range(rows_n)])\n",
    "                        dict_unique[reg_dict['table_group']] = df[reg_dict['var_name']]\n",
    "                    elif reg_dict['table_group'] is not None:\n",
    "                        # load the series from unique and randomize if not unique\n",
    "                        random_index = np.random.randint(0, rows_n, size=rows_n)\n",
    "                        df[reg_dict['var_name']] = dict_unique[reg_dict['table_group']].iloc[random_index].tolist()\n",
    "                else:\n",
    "                    # generate with fake function\n",
    "                    df[reg_dict['var_name']] = pd.Series([getattr(fake, reg_dict['var_name'])() for i in range(rows_n)])\n",
    "\n",
    "    # increase df rows by 25% to 99\n",
    "    for df_name in df_names:\n",
    "        length = vars()[df_name].shape[0]\n",
    "        vars()[df_name] = vars()[df_name].append(vars()[df_name].iloc[:(int(length*0.25)+1), :])\n",
    "        local_ns[df_name] = vars()[df_name]\n",
    "    \n"
   ]
  },
  {
   "cell_type": "code",
   "execution_count": 4,
   "metadata": {},
   "outputs": [
    {
     "name": "stdout",
     "output_type": "stream",
     "text": [
      "got line: persons\n",
      "defining df name as: persons\n",
      "got line: -------\n",
      "finished define df name\n",
      "got line: first_name\n",
      "got line: last_name*\n",
      "got line: phone_number\n",
      "got line: random_number(5) as customer_number [1]*\n",
      "got line: \n",
      "got line: purchases\n",
      "defining df name as: purchases\n",
      "got line: ---------\n",
      "finished define df name\n",
      "got line: isbn10\n",
      "got line: credit_card_full\n",
      "got line: random_number(3) as price\n",
      "got line: random_number(5) as customer_number [1]\n",
      "got line: \n"
     ]
    }
   ],
   "source": [
    "%%fakedata\n",
    "persons\n",
    "-------\n",
    "first_name\n",
    "last_name*\n",
    "phone_number\n",
    "random_number(5) as customer_number [1]*\n",
    "\n",
    "purchases\n",
    "---------\n",
    "isbn10\n",
    "credit_card_full\n",
    "random_number(3) as price\n",
    "random_number(5) as customer_number [1]"
   ]
  },
  {
   "cell_type": "code",
   "execution_count": 5,
   "metadata": {},
   "outputs": [],
   "source": [
    "assert ('persons' in locals()), \"You should automatically set the persons and purchases objects\"\n",
    "assert ('purchases' in locals()), \"You should automatically set the persons and purchases objects\"\n",
    "assert (type(persons)==pd.DataFrame), \"You should be setting persons and purchases to be DataFrame objects\"\n",
    "assert (len(persons)==99), \"All Hail the Great One!\"\n",
    "assert (set(purchases['customer_number']).issubset(set(persons['customer_number']))), \"Check the clarification in the description carefully\""
   ]
  },
  {
   "cell_type": "code",
   "execution_count": null,
   "metadata": {},
   "outputs": [],
   "source": []
  }
 ],
 "metadata": {
  "kernelspec": {
   "display_name": "Python 3",
   "language": "python",
   "name": "python3"
  },
  "language_info": {
   "codemirror_mode": {
    "name": "ipython",
    "version": 3
   },
   "file_extension": ".py",
   "mimetype": "text/x-python",
   "name": "python",
   "nbconvert_exporter": "python",
   "pygments_lexer": "ipython3",
   "version": "3.7.6"
  }
 },
 "nbformat": 4,
 "nbformat_minor": 4
}
