{
 "cells": [
  {
   "cell_type": "markdown",
   "metadata": {},
   "source": [
    "# Building Realistic Example Data\n",
    "This __optional bonus assignment__ is worth up to 5% of your final grade. It must be handed in by directly mailing the instructor (Christopher Brooks, brooksch@umich.edu) the assignment no later than Sunday September 27th at 11:59pm EST. This is not an all-or-nothing assignment, partial grades will be provided as appropriate."
   ]
  },
  {
   "cell_type": "markdown",
   "metadata": {},
   "source": [
    "## Assignment Overview\n",
    "A constant need I have when teaching pandas is finding compelling example data to work from. Good example data is real-world, messy enough to need some manipulation, and fits reasonable constraints for a given problem. For instance, if I want to demonstrate joining multiple `DataFrame` together I might want one which is about people and one which is about purchases, where every person has an identifier and a bunch of personal information, and every purchase is linked to a given person. This is much more compelling then a bunch of random `np.ndarray` lists that I create inline while trying to give a lecture!\n",
    "\n",
    "In addition, I'm taken by domain specific languages, and in this part of the assignment you are required to build a processor for a simple domain specific language I have invented for the purpose of describing pandas `DataFrame` structures! It is expected that you will demonstrate your knowledge of regex here in particular.\n",
    "\n",
    "Here's an example of the language I've created for this part of the assignment:\n",
    "```\n",
    "persons\n",
    "-------\n",
    "first_name\n",
    "last_name*\n",
    "phone_number\n",
    "random_number(5) as customer_number [1]*\n",
    "\n",
    "purchases\n",
    "---------\n",
    "isbn10\n",
    "credit_card_full\n",
    "random_number(3) as price\n",
    "random_number(5) as customer_number [1]\n",
    "```\n",
    "\n",
    "In this example I describe two `DataFrame` objects by underlying a string with two or more hyphens. The string (`persons` and `purchases`) should be used as the variable name for the `DataFrame` objects created, and the language will always separate multiple `DataFrame` definitions by whitespace and hyphens as shown. Each column in the `DataFrame` is described on its own line with a string (e.g. `first_name*`). The string defines the column as follows:\n",
    "\n",
    "1. The first word (e.g. `first_name` or `random_number(3)`) describes a function  and optional set of parameters to be called against a common `faker` object (an instance of the `Faker` class) for each entry in the resulting `DataFrame`. For instance, a value of `isbn10` implies that `faker.isbn10()` be called (note the default parameters), while a value of `random_number(5)` implies that `faker.random_number(5)` be called (with my supplied parameters).\n",
    "2. The first word *may* be followed by some whitespace and then an `as` statement. The `as` statement denotes that the following word be used as the name of the column. For instance, `random_number(3) as price` means that I'm looking for a column named `price` where every instance in the column is of a `faker.random_number(3)` invocation.\n",
    "3. If there is no `as` statement the name of the column should be the name of the function (with no parameters) I supplied, e.g. `first_name`.\n",
    "4. The definition may include a reference in the format `[#]` where the # sign is any number. This reference will be used across tables to show that the data in those tables should be of a similar set of values. This is so I can join between tables, which is a common need to demonstrate. In the example given I want each of the tables to have a column called `customer_number` where the data values in the column are such that `set(column1)==set(column2)`. Note that this doesn't mean the columns should be the same (they shouldn't), but just that they should include only 100% overlapping data. See point 6 for data distribution. **Clarification: In the example here, all of the `customer_number` values in `persons` should be unique (hence the `*`), but in the referencing collumn `purchases[customer_number]` the uniqueness is relaxed. This means that there does not have to be a 1:1 mapping as implied, and that it is a 1:many mapping, and in this case since `purchases` has repeated data you could verify this with `set(purchases['customer_number']).issubset(set(persons['customer_number']))`.**\n",
    "5. The sentence may end with a `*`. This indicates that the column described should be made up of unique data (no repeated elements). For instance, you wouldn't want a customer to be accidently assigned the customer number of another person! In the example above I decided I wanted the `last_name` of the persons and their `customer_number` to be unique in that table.\n",
    "6. By default a column should have 25% repeated data. e.g. something close to `len(column)==len(set(column))*1.25`. This lets me demonstrate operations such as left joins easily.\n",
    "7. By default, the length of each `DataFrame` created should be 99 items. This is both reasonable for most demonstrations, and a homage to The Great One.\n",
    "8. The functionality described should be executed in a cell magic function called `%%fakedata`, where the remainder of the cell is the definition in plain text. See https://ipython.readthedocs.io/en/stable/config/custommagics.html for more details."
   ]
  },
  {
   "cell_type": "markdown",
   "metadata": {},
   "source": [
    "## An attempt at a more formal grammar\n",
    "\n",
    "```\n",
    "function_to_call  ::= <wordcharacters>\n",
    "parameters        ::= \"\" | \"(\" ( wordcharacters | number ) \")\"\n",
    "as_name           ::= \"\" | \"as\" <whitespace> <wordcharacters>\n",
    "column_name       ::= as_name | function_to_call\n",
    "reference         ::= \"\" |  \"[\" number \"]\"\n",
    "unique_mark       ::= \"\" | \"*\"\n",
    "column_definition ::= <function_to_call> <parameters> <whitespace> \\\n",
    "                      <as_name> <whitespace> <reference> <unique_mark>\n",
    "df_sep            ::= \"--\" (\"-\"*)\n",
    "df_definition     ::= <wordcharacters> <newline> <df_sep> <newline> \\\n",
    "                      (<column_definition>*) <newline> <newline>\n",
    "language_spec     ::= <def_definition>*\n",
    "```\n"
   ]
  },
  {
   "cell_type": "markdown",
   "metadata": {},
   "source": [
    "## Background: What is this `Faker` class?\n",
    "The `Faker` class defines a number of great functions that generate realistic data. The way it works is that you create a new instance of `Faker` with no parameters, then call various methods on that object which are predefined at https://faker.readthedocs.io/en/stable/\n",
    "\n",
    "This is demonstrated below showing a single entry into a `DataFrame` using the description above."
   ]
  },
  {
   "cell_type": "code",
   "execution_count": 2,
   "metadata": {},
   "outputs": [
    {
     "data": {
      "text/html": [
       "<div>\n",
       "<style scoped>\n",
       "    .dataframe tbody tr th:only-of-type {\n",
       "        vertical-align: middle;\n",
       "    }\n",
       "\n",
       "    .dataframe tbody tr th {\n",
       "        vertical-align: top;\n",
       "    }\n",
       "\n",
       "    .dataframe thead th {\n",
       "        text-align: right;\n",
       "    }\n",
       "</style>\n",
       "<table border=\"1\" class=\"dataframe\">\n",
       "  <thead>\n",
       "    <tr style=\"text-align: right;\">\n",
       "      <th></th>\n",
       "      <th>first_name</th>\n",
       "      <th>last_name</th>\n",
       "      <th>phone_number</th>\n",
       "      <th>customer_number</th>\n",
       "    </tr>\n",
       "  </thead>\n",
       "  <tbody>\n",
       "    <tr>\n",
       "      <th>0</th>\n",
       "      <td>Jasmine</td>\n",
       "      <td>Martinez</td>\n",
       "      <td>4945642104</td>\n",
       "      <td>18178</td>\n",
       "    </tr>\n",
       "  </tbody>\n",
       "</table>\n",
       "</div>"
      ],
      "text/plain": [
       "  first_name last_name phone_number  customer_number\n",
       "0    Jasmine  Martinez   4945642104            18178"
      ]
     },
     "execution_count": 2,
     "metadata": {},
     "output_type": "execute_result"
    }
   ],
   "source": [
    "import pandas as pd\n",
    "from faker import Faker\n",
    "\n",
    "fake = Faker()\n",
    "person = pd.DataFrame( [{\"first_name\": fake.first_name(),\n",
    "                        \"last_name\": fake.last_name(),\n",
    "                        \"phone_number\": fake.phone_number(),\n",
    "                        \"customer_number\": fake.random_number(5)}])\n",
    "person"
   ]
  },
  {
   "cell_type": "markdown",
   "metadata": {},
   "source": [
    "## Some example test cases\n",
    "There is no autograder for this assignment, but it might be useful to see some example test cases, so imagine that I was going to run your code using the following cells. My assumption is that your code to define, load, and run the magic function goes in one cell at the top of the notebook)."
   ]
  },
  {
   "cell_type": "code",
   "execution_count": 84,
   "metadata": {},
   "outputs": [],
   "source": [
    "from IPython.core.magic import (register_line_magic, register_cell_magic,\n",
    "                                register_line_cell_magic)\n",
    "\n",
    "@register_line_magic\n",
    "def lmagic(line):\n",
    "    \"my line magic\"\n",
    "    return line*2\n",
    "\n",
    "@register_cell_magic\n",
    "def cmagic(line,cell):\n",
    "    \"my cell magic\"\n",
    "    global cell_result\n",
    "    cell_result = line,cell\n",
    "    return line, cell\n",
    "\n",
    "@register_line_cell_magic\n",
    "def lcmagic(line, cell=None):\n",
    "    'Magic that works both as %lcmagic and as %%lcmagic'\n",
    "    if cell is None:\n",
    "        print(\"called as line magic\")\n",
    "        return line\n",
    "    else:\n",
    "        print('called as cell magic')\n",
    "        return line, cell"
   ]
  },
  {
   "cell_type": "code",
   "execution_count": 142,
   "metadata": {},
   "outputs": [
    {
     "data": {
      "text/plain": [
       "29"
      ]
     },
     "execution_count": 142,
     "metadata": {},
     "output_type": "execute_result"
    }
   ],
   "source": [
    "88//3"
   ]
  },
  {
   "cell_type": "code",
   "execution_count": 85,
   "metadata": {},
   "outputs": [
    {
     "data": {
      "text/plain": [
       "('',\n",
       " 'persons\\n-------\\nfirst_name\\nlast_name*\\nphone_number\\nrandom_number(5) as customer_number [1]*\\n\\npurchases\\n---------\\nisbn10\\ncredit_card_full\\nrandom_number(3) as price\\nrandom_number(5) as customer_number [1]\\n')"
      ]
     },
     "execution_count": 85,
     "metadata": {},
     "output_type": "execute_result"
    }
   ],
   "source": [
    "%%cmagic\n",
    "persons\n",
    "-------\n",
    "first_name\n",
    "last_name*\n",
    "phone_number\n",
    "random_number(5) as customer_number [1]*\n",
    "\n",
    "purchases\n",
    "---------\n",
    "isbn10\n",
    "credit_card_full\n",
    "random_number(3) as price\n",
    "random_number(5) as customer_number [1]"
   ]
  },
  {
   "cell_type": "code",
   "execution_count": 91,
   "metadata": {},
   "outputs": [],
   "source": [
    "import re"
   ]
  },
  {
   "cell_type": "code",
   "execution_count": 136,
   "metadata": {},
   "outputs": [
    {
     "data": {
      "text/plain": [
       "<re.Match object; span=(14, 15), match='*'>"
      ]
     },
     "execution_count": 136,
     "metadata": {},
     "output_type": "execute_result"
    }
   ],
   "source": [
    "line = 'dfaasd---fasdf*'\n",
    "regex = '\\*'\n",
    "re.search(regex,line)"
   ]
  },
  {
   "cell_type": "code",
   "execution_count": 90,
   "metadata": {},
   "outputs": [
    {
     "name": "stdout",
     "output_type": "stream",
     "text": [
      "persons\n",
      "-------\n",
      "first_name\n",
      "last_name*\n",
      "phone_number\n",
      "random_number(5) as customer_number [1]*\n",
      "\n",
      "purchases\n",
      "---------\n",
      "isbn10\n",
      "credit_card_full\n",
      "random_number(3) as price\n",
      "random_number(5) as customer_number [1]\n",
      "\n"
     ]
    }
   ],
   "source": [
    "# Need to regex this\n",
    "# split by \\n\n",
    "for line in cell_result[1].split('\\n'):\n",
    "    print(line)\n",
    "    # start with naming the df \n",
    "    vars()[line] = pd.DataFrame(None)\n",
    "    mydf = vars()[line]\n",
    "    \n"
   ]
  },
  {
   "cell_type": "code",
   "execution_count": 71,
   "metadata": {},
   "outputs": [
    {
     "ename": "NameError",
     "evalue": "name 'register_cell_magic' is not defined",
     "output_type": "error",
     "traceback": [
      "\u001b[0;31m---------------------------------------------------------------------------\u001b[0m",
      "\u001b[0;31mNameError\u001b[0m                                 Traceback (most recent call last)",
      "\u001b[0;32m<ipython-input-71-3672e131f3c3>\u001b[0m in \u001b[0;36m<module>\u001b[0;34m\u001b[0m\n\u001b[0;32m----> 1\u001b[0;31m \u001b[0;34m@\u001b[0m\u001b[0mregister_cell_magic\u001b[0m\u001b[0;34m\u001b[0m\u001b[0;34m\u001b[0m\u001b[0m\n\u001b[0m\u001b[1;32m      2\u001b[0m \u001b[0;32mdef\u001b[0m \u001b[0mfakedata\u001b[0m\u001b[0;34m(\u001b[0m\u001b[0mline\u001b[0m\u001b[0;34m,\u001b[0m \u001b[0mcell\u001b[0m\u001b[0;34m)\u001b[0m\u001b[0;34m:\u001b[0m\u001b[0;34m\u001b[0m\u001b[0;34m\u001b[0m\u001b[0m\n\u001b[1;32m      3\u001b[0m     \u001b[0;32mimport\u001b[0m \u001b[0mpandas\u001b[0m \u001b[0;32mas\u001b[0m \u001b[0mpd\u001b[0m\u001b[0;34m\u001b[0m\u001b[0;34m\u001b[0m\u001b[0m\n\u001b[1;32m      4\u001b[0m     \u001b[0;32mfrom\u001b[0m \u001b[0mfaker\u001b[0m \u001b[0;32mimport\u001b[0m \u001b[0mFaker\u001b[0m\u001b[0;34m\u001b[0m\u001b[0;34m\u001b[0m\u001b[0m\n\u001b[1;32m      5\u001b[0m \u001b[0;34m\u001b[0m\u001b[0m\n",
      "\u001b[0;31mNameError\u001b[0m: name 'register_cell_magic' is not defined"
     ]
    }
   ],
   "source": [
    "from IPython.core.magic import (register_line_magic, register_cell_magic,\n",
    "                                register_line_cell_magic)\n",
    "\n",
    "@register_cell_magic\n",
    "def fakedata(line, cell):\n",
    "    import pandas as pd\n",
    "    from faker import Faker\n",
    "\n",
    "    fake = Faker()\n",
    "    i=0\n",
    "    persons = pd.DataFrame( [{\"first_name\": fake.first_name(),\n",
    "                                \"last_name\": fake.last_name(),\n",
    "                                \"phone_number\": fake.phone_number(),\n",
    "                                \"customer_number\": fake.random_number(5, fix_len=True)}])\n",
    "    i+=1\n",
    "    while i < 99:\n",
    "        person = pd.DataFrame( [{\"first_name\": fake.first_name(),\n",
    "                                \"last_name\": fake.last_name(),\n",
    "                                \"phone_number\": fake.phone_number(),\n",
    "                                \"customer_number\": fake.random_number(5, fix_len=True)}])\n",
    "        if ((person.loc[0, 'last_name'] in persons['last_name'].tolist()) |\\\n",
    "            (person.loc[0, 'customer_number'] in persons['customer_number'].tolist())):\n",
    "            # don't increase i\n",
    "            # don't append the person to persons\n",
    "            pass\n",
    "        else:\n",
    "            persons = persons.append(person)\n",
    "            i += 1\n",
    "\n",
    "    return persons"
   ]
  },
  {
   "cell_type": "code",
   "execution_count": 66,
   "metadata": {},
   "outputs": [],
   "source": [
    "fake = Faker()\n",
    "i=0\n",
    "persons = pd.DataFrame( [{\"first_name\": fake.first_name(),\n",
    "                            \"last_name\": fake.last_name(),\n",
    "                            \"phone_number\": fake.phone_number(),\n",
    "                            \"customer_number\": fake.random_number(5)}])\n",
    "i+=1\n",
    "while i < 99:\n",
    "    person = pd.DataFrame( [{\"first_name\": fake.first_name(),\n",
    "                            \"last_name\": fake.last_name(),\n",
    "                            \"phone_number\": fake.phone_number(),\n",
    "                            \"customer_number\": fake.random_number(5)}])\n",
    "    if ((person.loc[0, 'last_name'] in persons['last_name'].tolist()) |\\\n",
    "        (person.loc[0, 'customer_number'] in persons['customer_number'].tolist())):\n",
    "        # don't increase i\n",
    "        # don't append the person to persons\n",
    "        pass\n",
    "    else:\n",
    "        persons = persons.append(person)\n",
    "        i += 1\n"
   ]
  },
  {
   "cell_type": "code",
   "execution_count": 70,
   "metadata": {},
   "outputs": [
    {
     "data": {
      "text/html": [
       "<div>\n",
       "<style scoped>\n",
       "    .dataframe tbody tr th:only-of-type {\n",
       "        vertical-align: middle;\n",
       "    }\n",
       "\n",
       "    .dataframe tbody tr th {\n",
       "        vertical-align: top;\n",
       "    }\n",
       "\n",
       "    .dataframe thead th {\n",
       "        text-align: right;\n",
       "    }\n",
       "</style>\n",
       "<table border=\"1\" class=\"dataframe\">\n",
       "  <thead>\n",
       "    <tr style=\"text-align: right;\">\n",
       "      <th></th>\n",
       "      <th>first_name</th>\n",
       "      <th>last_name</th>\n",
       "      <th>phone_number</th>\n",
       "      <th>customer_number</th>\n",
       "    </tr>\n",
       "  </thead>\n",
       "  <tbody>\n",
       "    <tr>\n",
       "      <th>0</th>\n",
       "      <td>Amy</td>\n",
       "      <td>Green</td>\n",
       "      <td>249-103-0390x242</td>\n",
       "      <td>22552</td>\n",
       "    </tr>\n",
       "    <tr>\n",
       "      <th>0</th>\n",
       "      <td>Melissa</td>\n",
       "      <td>Bailey</td>\n",
       "      <td>001-052-160-6536x819</td>\n",
       "      <td>14948</td>\n",
       "    </tr>\n",
       "    <tr>\n",
       "      <th>0</th>\n",
       "      <td>Michael</td>\n",
       "      <td>Oconnor</td>\n",
       "      <td>(060)256-4423x798</td>\n",
       "      <td>46698</td>\n",
       "    </tr>\n",
       "    <tr>\n",
       "      <th>0</th>\n",
       "      <td>Kenneth</td>\n",
       "      <td>Martin</td>\n",
       "      <td>+1-467-489-3895</td>\n",
       "      <td>9962</td>\n",
       "    </tr>\n",
       "    <tr>\n",
       "      <th>0</th>\n",
       "      <td>Brian</td>\n",
       "      <td>Hamilton</td>\n",
       "      <td>686-868-8084x8455</td>\n",
       "      <td>91729</td>\n",
       "    </tr>\n",
       "    <tr>\n",
       "      <th>...</th>\n",
       "      <td>...</td>\n",
       "      <td>...</td>\n",
       "      <td>...</td>\n",
       "      <td>...</td>\n",
       "    </tr>\n",
       "    <tr>\n",
       "      <th>0</th>\n",
       "      <td>Yvonne</td>\n",
       "      <td>Conner</td>\n",
       "      <td>4684457403</td>\n",
       "      <td>80159</td>\n",
       "    </tr>\n",
       "    <tr>\n",
       "      <th>0</th>\n",
       "      <td>Michele</td>\n",
       "      <td>Reid</td>\n",
       "      <td>(287)145-8310x184</td>\n",
       "      <td>57970</td>\n",
       "    </tr>\n",
       "    <tr>\n",
       "      <th>0</th>\n",
       "      <td>Evan</td>\n",
       "      <td>Hess</td>\n",
       "      <td>674-156-3224</td>\n",
       "      <td>75177</td>\n",
       "    </tr>\n",
       "    <tr>\n",
       "      <th>0</th>\n",
       "      <td>Joel</td>\n",
       "      <td>Hart</td>\n",
       "      <td>(559)582-9821x5766</td>\n",
       "      <td>69476</td>\n",
       "    </tr>\n",
       "    <tr>\n",
       "      <th>0</th>\n",
       "      <td>Richard</td>\n",
       "      <td>Wilson</td>\n",
       "      <td>(444)061-0188</td>\n",
       "      <td>7642</td>\n",
       "    </tr>\n",
       "  </tbody>\n",
       "</table>\n",
       "<p>99 rows × 4 columns</p>\n",
       "</div>"
      ],
      "text/plain": [
       "   first_name last_name          phone_number  customer_number\n",
       "0         Amy     Green      249-103-0390x242            22552\n",
       "0     Melissa    Bailey  001-052-160-6536x819            14948\n",
       "0     Michael   Oconnor     (060)256-4423x798            46698\n",
       "0     Kenneth    Martin       +1-467-489-3895             9962\n",
       "0       Brian  Hamilton     686-868-8084x8455            91729\n",
       "..        ...       ...                   ...              ...\n",
       "0      Yvonne    Conner            4684457403            80159\n",
       "0     Michele      Reid     (287)145-8310x184            57970\n",
       "0        Evan      Hess          674-156-3224            75177\n",
       "0        Joel      Hart    (559)582-9821x5766            69476\n",
       "0     Richard    Wilson         (444)061-0188             7642\n",
       "\n",
       "[99 rows x 4 columns]"
      ]
     },
     "execution_count": 70,
     "metadata": {},
     "output_type": "execute_result"
    }
   ],
   "source": [
    "persons"
   ]
  },
  {
   "cell_type": "code",
   "execution_count": 76,
   "metadata": {},
   "outputs": [
    {
     "data": {
      "text/html": [
       "<div>\n",
       "<style scoped>\n",
       "    .dataframe tbody tr th:only-of-type {\n",
       "        vertical-align: middle;\n",
       "    }\n",
       "\n",
       "    .dataframe tbody tr th {\n",
       "        vertical-align: top;\n",
       "    }\n",
       "\n",
       "    .dataframe thead th {\n",
       "        text-align: right;\n",
       "    }\n",
       "</style>\n",
       "<table border=\"1\" class=\"dataframe\">\n",
       "  <thead>\n",
       "    <tr style=\"text-align: right;\">\n",
       "      <th></th>\n",
       "      <th>first_name</th>\n",
       "      <th>last_name</th>\n",
       "      <th>phone_number</th>\n",
       "      <th>customer_number</th>\n",
       "    </tr>\n",
       "  </thead>\n",
       "  <tbody>\n",
       "    <tr>\n",
       "      <th>0</th>\n",
       "      <td>Lauren</td>\n",
       "      <td>Blankenship</td>\n",
       "      <td>(729)272-0824x18346</td>\n",
       "      <td>74530</td>\n",
       "    </tr>\n",
       "    <tr>\n",
       "      <th>0</th>\n",
       "      <td>Mitchell</td>\n",
       "      <td>Thompson</td>\n",
       "      <td>434-399-7315</td>\n",
       "      <td>62352</td>\n",
       "    </tr>\n",
       "    <tr>\n",
       "      <th>0</th>\n",
       "      <td>Tyler</td>\n",
       "      <td>Mosley</td>\n",
       "      <td>(437)480-7291x43680</td>\n",
       "      <td>83983</td>\n",
       "    </tr>\n",
       "    <tr>\n",
       "      <th>0</th>\n",
       "      <td>Kimberly</td>\n",
       "      <td>Hunter</td>\n",
       "      <td>027.557.6879</td>\n",
       "      <td>94166</td>\n",
       "    </tr>\n",
       "    <tr>\n",
       "      <th>0</th>\n",
       "      <td>Melissa</td>\n",
       "      <td>Murphy</td>\n",
       "      <td>+1-347-264-8349</td>\n",
       "      <td>72420</td>\n",
       "    </tr>\n",
       "    <tr>\n",
       "      <th>...</th>\n",
       "      <td>...</td>\n",
       "      <td>...</td>\n",
       "      <td>...</td>\n",
       "      <td>...</td>\n",
       "    </tr>\n",
       "    <tr>\n",
       "      <th>0</th>\n",
       "      <td>Terri</td>\n",
       "      <td>Brown</td>\n",
       "      <td>034.183.5153</td>\n",
       "      <td>86941</td>\n",
       "    </tr>\n",
       "    <tr>\n",
       "      <th>0</th>\n",
       "      <td>Samantha</td>\n",
       "      <td>Huffman</td>\n",
       "      <td>123.674.4783x3168</td>\n",
       "      <td>56597</td>\n",
       "    </tr>\n",
       "    <tr>\n",
       "      <th>0</th>\n",
       "      <td>Tanya</td>\n",
       "      <td>Pearson</td>\n",
       "      <td>(227)048-4924</td>\n",
       "      <td>85471</td>\n",
       "    </tr>\n",
       "    <tr>\n",
       "      <th>0</th>\n",
       "      <td>Katherine</td>\n",
       "      <td>Vargas</td>\n",
       "      <td>001-130-280-9642x67471</td>\n",
       "      <td>77859</td>\n",
       "    </tr>\n",
       "    <tr>\n",
       "      <th>0</th>\n",
       "      <td>Michelle</td>\n",
       "      <td>Smith</td>\n",
       "      <td>+1-671-661-2188x79111</td>\n",
       "      <td>68164</td>\n",
       "    </tr>\n",
       "  </tbody>\n",
       "</table>\n",
       "<p>99 rows × 4 columns</p>\n",
       "</div>"
      ],
      "text/plain": [
       "   first_name    last_name            phone_number  customer_number\n",
       "0      Lauren  Blankenship     (729)272-0824x18346            74530\n",
       "0    Mitchell     Thompson            434-399-7315            62352\n",
       "0       Tyler       Mosley     (437)480-7291x43680            83983\n",
       "0    Kimberly       Hunter            027.557.6879            94166\n",
       "0     Melissa       Murphy         +1-347-264-8349            72420\n",
       "..        ...          ...                     ...              ...\n",
       "0       Terri        Brown            034.183.5153            86941\n",
       "0    Samantha      Huffman       123.674.4783x3168            56597\n",
       "0       Tanya      Pearson           (227)048-4924            85471\n",
       "0   Katherine       Vargas  001-130-280-9642x67471            77859\n",
       "0    Michelle        Smith   +1-671-661-2188x79111            68164\n",
       "\n",
       "[99 rows x 4 columns]"
      ]
     },
     "execution_count": 76,
     "metadata": {},
     "output_type": "execute_result"
    }
   ],
   "source": [
    "%%fakedata\n",
    "a"
   ]
  },
  {
   "cell_type": "code",
   "execution_count": 3,
   "metadata": {},
   "outputs": [
    {
     "name": "stderr",
     "output_type": "stream",
     "text": [
      "UsageError: Cell magic `%%fakedata` not found.\n"
     ]
    }
   ],
   "source": [
    "%%fakedata\n",
    "persons\n",
    "-------\n",
    "first_name\n",
    "last_name*\n",
    "phone_number\n",
    "random_number(5) as customer_number [1]*\n",
    "\n",
    "purchases\n",
    "---------\n",
    "isbn10\n",
    "credit_card_full\n",
    "random_number(3) as price\n",
    "random_number(5) as customer_number [1]"
   ]
  },
  {
   "cell_type": "code",
   "execution_count": null,
   "metadata": {},
   "outputs": [],
   "source": [
    "assert ('persons' in locals()), \"You should automatically set the persons and purchases objects\"\n",
    "assert ('purchases' in locals()), \"You should automatically set the persons and purchases objects\"\n",
    "assert (type(persons)==pd.DataFrame), \"You should be setting persons and purchases to be DataFrame objects\"\n",
    "assert (len(persons)==99), \"All Hail the Great One!\"\n",
    "assert (set(purchases['customer_number']).issubset(set(persons['customer_number']))), \"Check the clarification in the description carefully\""
   ]
  }
 ],
 "metadata": {
  "kernelspec": {
   "display_name": "Python 3",
   "language": "python",
   "name": "python3"
  },
  "language_info": {
   "codemirror_mode": {
    "name": "ipython",
    "version": 3
   },
   "file_extension": ".py",
   "mimetype": "text/x-python",
   "name": "python",
   "nbconvert_exporter": "python",
   "pygments_lexer": "ipython3",
   "version": "3.7.6"
  }
 },
 "nbformat": 4,
 "nbformat_minor": 4
}
